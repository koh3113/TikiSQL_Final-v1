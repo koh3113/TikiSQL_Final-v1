{
 "cells": [
  {
   "cell_type": "code",
   "execution_count": 82,
   "metadata": {},
   "outputs": [],
   "source": [
    "# Import libraries\n",
    "import pandas as pd\n",
    "import requests\n",
    "import psycopg2\n",
    "from bs4 import BeautifulSoup"
   ]
  },
  {
   "cell_type": "code",
   "execution_count": 83,
   "metadata": {},
   "outputs": [],
   "source": [
    "def parser(url):\n",
    "    \n",
    "    # Plain HTML code\n",
    "    plain = requests.get(url).text\n",
    "    \n",
    "    # Parser\n",
    "    s = BeautifulSoup(plain, \"html.parser\")\n",
    "    \n",
    "    return s"
   ]
  },
  {
   "cell_type": "code",
   "execution_count": 89,
   "metadata": {},
   "outputs": [],
   "source": [
    "\n",
    "conn = psycopg2.connect(\"dbname=coderschool user=lenovo password=1\")\n",
    "cur = conn.cursor()\n",
    "cur.execute('SELECT c.cat_id AS Cc,c.url FROM categories AS c LEFT JOIN categories AS e ON e.parent_id = c.cat_id WHERE e.cat_id IS NULL;')\n",
    "notes = cur.fetchall()\n"
   ]
  },
  {
   "cell_type": "code",
   "execution_count": 72,
   "metadata": {},
   "outputs": [],
   "source": [
    "def get_urls():\n",
    "    url = \"https://tiki.vn/\"\n",
    "    # Run Parser on Tiki\n",
    "    s = parser(url)\n",
    "\n",
    "    \n",
    "    # Initialize an empty list of category \n",
    "    category_list = []\n",
    "\n",
    "    # Scrape\n",
    "    #through the navigator bar on Tiki homepage\n",
    "    for i in s.findAll('a',{'class':'MenuItem__MenuLink-tii3xq-1 efuIbv'}):\n",
    "        \n",
    "        # Get the category value\n",
    "        category = i.find('span',{'class':'text'}).text \n",
    "        \n",
    "        # Get the url value\n",
    "        url = i['href'] + \"&page=1\"\n",
    "        \n",
    "        # Add category and url values to list\n",
    "        category_list.append((category, url))\n",
    "        \n",
    "    return category_list"
   ]
  },
  {
   "cell_type": "code",
   "execution_count": 85,
   "metadata": {},
   "outputs": [],
   "source": [
    "def get_connection():\n",
    "    connection = psycopg2.connect(user = \"lenovo\",\n",
    "                                  password = '1',\n",
    "                                  host = \"127.0.0.1\",\n",
    "                                  port = \"5432\",\n",
    "                                  database = \"coderschool\")\n",
    "    return connection"
   ]
  },
  {
   "cell_type": "code",
   "execution_count": 67,
   "metadata": {},
   "outputs": [
    {
     "data": {
      "text/plain": [
       "<connection object at 0x000001DD2B7D97B8; dsn: 'user=lenovo password=xxx dbname=coderschool host=127.0.0.1 port=5432', closed: 0>"
      ]
     },
     "execution_count": 67,
     "metadata": {},
     "output_type": "execute_result"
    }
   ],
   "source": [
    "get_connection()"
   ]
  },
  {
   "cell_type": "code",
   "execution_count": 86,
   "metadata": {},
   "outputs": [],
   "source": [
    "# Function to create an empty `products` table in our database if it doesn't exist yet\n",
    "def create_products_table():\n",
    "    query = (\n",
    "        \"\"\" CREATE TABLE products2 (\n",
    "                product_number SERIAL PRIMARY KEY,\n",
    "                product_id INT,\n",
    "                title TEXT,\n",
    "                prices INT,\n",
    "                img_url TEXT,\n",
    "                category_name TEXT,\n",
    "                categories_id INT\n",
    "                );\n",
    "    \n",
    "        \"\"\")\n",
    "    print('INFO create_products_table(): Create table products')\n",
    "    \n",
    "    try:\n",
    "        # Create connection & cursor\n",
    "        connection = get_connection()\n",
    "        cursor = connection.cursor()\n",
    "        \n",
    "        # Execute the query\n",
    "        cursor.execute(query)\n",
    "        \n",
    "        # Commit the changes made to our database\n",
    "        connection.commit()\n",
    "\n",
    "    except (Exception, psycopg2.Error) as error :\n",
    "        print (\"ERROR create_products_table(): Error while connecting to PostgreSQL\", error)\n",
    "        \n",
    "        # In case of error, cancel all changes made to our database during the connection\n",
    "        connection.close()\n",
    "        return\n",
    "    \n",
    "    finally:\n",
    "    \n",
    "        # Close the connection & cursor\n",
    "        cursor.close()\n",
    "        connection.close()"
   ]
  },
  {
   "cell_type": "code",
   "execution_count": 71,
   "metadata": {},
   "outputs": [
    {
     "name": "stdout",
     "output_type": "stream",
     "text": [
      "INFO create_products_table(): Create table products\n"
     ]
    }
   ],
   "source": [
    "create_products_table()\n"
   ]
  },
  {
   "cell_type": "code",
   "execution_count": 106,
   "metadata": {},
   "outputs": [],
   "source": [
    "class product:\n",
    "    def __init__(self, product_number, product_id, title, price, img_url, category_name, category_id):\n",
    "        self.product_number = product_number\n",
    "        self.product_id = product_id\n",
    "        self.title = title\n",
    "        self.price = price\n",
    "        self.img_url = img_url\n",
    "        self.category_name = category_name\n",
    "        self.category_id = category_id\n",
    "    def insert_data_to_db(data):\n",
    "    \n",
    "        print('INFO insert_data_to_db(): Insert data to DB')\n",
    "\n",
    "        try:\n",
    "            # Create connection & cursor \n",
    "            connection = get_connection()\n",
    "            cursor = connection.cursor()\n",
    "\n",
    "            # For each row (product) in data (product page),...\n",
    "            for row in data:\n",
    "                # Create the query to insert product information to 'table_name'\n",
    "                query =  f\"\"\"\n",
    "                INSERT INTO products (product_id, title, price, img_url, category_name, category_id) \n",
    "                VALUES (%s, %s, %s, %s, %s, %s) RETURNING product_number;\n",
    "            \"\"\"\n",
    "                val = (self.product_id, self.title, self.price, self.img_url, self.category_name, self.category_id)\n",
    "                # Execute the query\n",
    "                cursor.execute(query,val)\n",
    "\n",
    "                # Commit the changes made to our database\n",
    "                connection.commit()\n",
    "\n",
    "        except (Exception, psycopg2.Error) as error :\n",
    "            print (\"ERROR save_data_to_db(): Error while connecting to PostgreSQL\", error)\n",
    "\n",
    "            # In case of error, cancel all changes made to our database during the connection\n",
    "            connection.close()\n",
    "\n",
    "        finally:\n",
    "\n",
    "            # Close the connection & cursor\n",
    "            cursor.close()\n",
    "            connection.close()\n",
    "    # Function to get all data from table 'products'\n",
    "    def select_data_from_db():\n",
    "\n",
    "        try:\n",
    "            # Create connection & cursor \n",
    "            connection = get_connection()\n",
    "            cursor = connection.cursor()\n",
    "\n",
    "            # Get all data from table 'products'\n",
    "            query = 'SELECT * FROM products;'\n",
    "            cursor.execute(query)      \n",
    "\n",
    "            # Fetch (Collect) the data and save them in 'data'\n",
    "            data = cursor.fetch()\n",
    "\n",
    "            return data\n",
    "\n",
    "        except (Exception, psycopg2.Error) as error :\n",
    "            print (\"ERROR save_data_to_db(): Error while connecting to PostgreSQL\", error)\n",
    "\n",
    "            # In case of error, cancel all changes made to our database during the connection\n",
    "            connection.close()\n",
    "\n",
    "        finally:\n",
    "\n",
    "            # Close the connection & cursor\n",
    "            cursor.close()\n",
    "            connection.close()      \n",
    "         # Web scrape function\n",
    "    def scrape(cat_id, url):\n",
    "\n",
    "        # Initialize empty 'results' list\n",
    "        results = []\n",
    "\n",
    "        # Run Parser on the product page\n",
    "        s = parser(url)\n",
    "\n",
    "        # Find all tags <div class='product-item'> and store them in 'prodct_items' list, each tag represent a product\n",
    "        product_items = s.findAll('div',{'class':'product-item'})\n",
    "\n",
    "        # If the tag list is empty (i.e. the page doesn't have any product), return an empty list.\n",
    "        if len(product_items) == 0:\n",
    "          return []\n",
    "\n",
    "        # If the tag list is not empty (i.e. the page has products),...\n",
    "        else: \n",
    "\n",
    "            # Iterate through all product and store the product information in the 'row' list\n",
    "            for i in range(len(product_items)):\n",
    "\n",
    "                row = [product_items[i]['data-id'],            \n",
    "                       product_items[i]['data-title'],\n",
    "                       product_items[i]['data-price'], \n",
    "                       product_items[i].find('img',{'class':'product-image img-responsive'})['src'], \n",
    "                       product_items[i]['data-category'],\n",
    "                       cat_id\n",
    "                       ]   \n",
    "\n",
    "                # Add the product information of each product into 'results' list\n",
    "                results.append(row)\n",
    "\n",
    "        # Return the list `results`   \n",
    "        return results       \n",
    "    def scrape_all():\n",
    "        print('INFO scrape_all(): Start scraping')\n",
    "\n",
    "        # Create table `products` if it doesn't exist yet\n",
    "        create_products_table()\n",
    "        # Initialize 'queue' list with the results of get_urls()\n",
    "        \n",
    "\n",
    "        \n",
    "        cur.execute(\n",
    "        'SELECT c.cat_id AS Cc,c.url FROM categories AS c LEFT JOIN categories AS e ON e.parent_id = c.cat_id WHERE e.cat_id IS NULL;')\n",
    "        notes = cur.fetchall()\n",
    "        queue = notes\n",
    "        # While there are items in `queue`,...\n",
    "        while queue is not None:\n",
    "            for i in range (len(queue)):\n",
    "\n",
    "              # `url` is set to the url of last item in `queue`\n",
    "              url = queue[-1][1]\n",
    "\n",
    "              # `cat` is set to the category of last item in `queue`\n",
    "              cat = queue[-1][0]\n",
    "\n",
    "              # Remove the last item in queue\n",
    "              queue = queue[:-1]\n",
    "              results = product.scrape(cat, url)\n",
    "              print('Scraping', cat)\n",
    "\n",
    "              # Run scrape(cat, url) with given `cat` and `url`\n",
    "              new_rows = product.scrape(cat,url)\n",
    "\n",
    "              # If the result of scrape(cat, url) is not an empty list (i.e. the page has products),...  \n",
    "              if new_rows is not None:\n",
    "\n",
    "                  # Insert the result of scrape(cat, url) to table `product`\n",
    "                  product.insert_data_to_db(new_rows)\n",
    "\n",
    "                  results += new_rows  # This is what we did in the first week\n",
    "\n",
    "\n",
    "                  # Generate next page url \n",
    "                  page = i+1\n",
    "                  url= url.split(\"&\")[0]+\"&\"+\"page\"+str(i+1)\n",
    "\n",
    "\n",
    "\n",
    "                  print('Add next page', page)\n",
    "\n",
    "        print('Task completed!')"
   ]
  },
  {
   "cell_type": "code",
   "execution_count": 107,
   "metadata": {},
   "outputs": [
    {
     "name": "stdout",
     "output_type": "stream",
     "text": [
      "INFO scrape_all(): Start scraping\n",
      "INFO create_products_table(): Create table products\n",
      "Scraping 2209\n",
      "INFO insert_data_to_db(): Insert data to DB\n",
      "ERROR save_data_to_db(): Error while connecting to PostgreSQL name 'self' is not defined\n",
      "Add next page 1\n",
      "Scraping 2502\n",
      "INFO insert_data_to_db(): Insert data to DB\n",
      "ERROR save_data_to_db(): Error while connecting to PostgreSQL name 'self' is not defined\n",
      "Add next page 2\n",
      "Scraping 1709\n",
      "INFO insert_data_to_db(): Insert data to DB\n",
      "ERROR save_data_to_db(): Error while connecting to PostgreSQL name 'self' is not defined\n",
      "Add next page 3\n",
      "Scraping 2795\n",
      "INFO insert_data_to_db(): Insert data to DB\n",
      "ERROR save_data_to_db(): Error while connecting to PostgreSQL name 'self' is not defined\n",
      "Add next page 4\n",
      "Scraping 2283\n",
      "INFO insert_data_to_db(): Insert data to DB\n",
      "ERROR save_data_to_db(): Error while connecting to PostgreSQL name 'self' is not defined\n",
      "Add next page 5\n",
      "Scraping 612\n",
      "INFO insert_data_to_db(): Insert data to DB\n",
      "ERROR save_data_to_db(): Error while connecting to PostgreSQL name 'self' is not defined\n",
      "Add next page 6\n",
      "Scraping 925\n",
      "INFO insert_data_to_db(): Insert data to DB\n",
      "ERROR save_data_to_db(): Error while connecting to PostgreSQL name 'self' is not defined\n",
      "Add next page 7\n",
      "Scraping 2460\n",
      "INFO insert_data_to_db(): Insert data to DB\n",
      "ERROR save_data_to_db(): Error while connecting to PostgreSQL name 'self' is not defined\n",
      "Add next page 8\n",
      "Scraping 538\n"
     ]
    },
    {
     "ename": "KeyboardInterrupt",
     "evalue": "",
     "output_type": "error",
     "traceback": [
      "\u001b[1;31m---------------------------------------------------------------------------\u001b[0m",
      "\u001b[1;31mKeyboardInterrupt\u001b[0m                         Traceback (most recent call last)",
      "\u001b[1;32m<ipython-input-107-bd795e09da68>\u001b[0m in \u001b[0;36m<module>\u001b[1;34m\u001b[0m\n\u001b[1;32m----> 1\u001b[1;33m \u001b[0mproduct\u001b[0m\u001b[1;33m.\u001b[0m\u001b[0mscrape_all\u001b[0m\u001b[1;33m(\u001b[0m\u001b[1;33m)\u001b[0m\u001b[1;33m\u001b[0m\u001b[1;33m\u001b[0m\u001b[0m\n\u001b[0m",
      "\u001b[1;32m<ipython-input-106-04c5ba7d6909>\u001b[0m in \u001b[0;36mscrape_all\u001b[1;34m()\u001b[0m\n\u001b[0;32m    134\u001b[0m \u001b[1;33m\u001b[0m\u001b[0m\n\u001b[0;32m    135\u001b[0m               \u001b[1;31m# Run scrape(cat, url) with given `cat` and `url`\u001b[0m\u001b[1;33m\u001b[0m\u001b[1;33m\u001b[0m\u001b[1;33m\u001b[0m\u001b[0m\n\u001b[1;32m--> 136\u001b[1;33m               \u001b[0mnew_rows\u001b[0m \u001b[1;33m=\u001b[0m \u001b[0mproduct\u001b[0m\u001b[1;33m.\u001b[0m\u001b[0mscrape\u001b[0m\u001b[1;33m(\u001b[0m\u001b[0mcat\u001b[0m\u001b[1;33m,\u001b[0m\u001b[0murl\u001b[0m\u001b[1;33m)\u001b[0m\u001b[1;33m\u001b[0m\u001b[1;33m\u001b[0m\u001b[0m\n\u001b[0m\u001b[0;32m    137\u001b[0m \u001b[1;33m\u001b[0m\u001b[0m\n\u001b[0;32m    138\u001b[0m               \u001b[1;31m# If the result of scrape(cat, url) is not an empty list (i.e. the page has products),...\u001b[0m\u001b[1;33m\u001b[0m\u001b[1;33m\u001b[0m\u001b[1;33m\u001b[0m\u001b[0m\n",
      "\u001b[1;32m<ipython-input-106-04c5ba7d6909>\u001b[0m in \u001b[0;36mscrape\u001b[1;34m(cat_id, url)\u001b[0m\n\u001b[0;32m     77\u001b[0m \u001b[1;33m\u001b[0m\u001b[0m\n\u001b[0;32m     78\u001b[0m         \u001b[1;31m# Run Parser on the product page\u001b[0m\u001b[1;33m\u001b[0m\u001b[1;33m\u001b[0m\u001b[1;33m\u001b[0m\u001b[0m\n\u001b[1;32m---> 79\u001b[1;33m         \u001b[0ms\u001b[0m \u001b[1;33m=\u001b[0m \u001b[0mparser\u001b[0m\u001b[1;33m(\u001b[0m\u001b[0murl\u001b[0m\u001b[1;33m)\u001b[0m\u001b[1;33m\u001b[0m\u001b[1;33m\u001b[0m\u001b[0m\n\u001b[0m\u001b[0;32m     80\u001b[0m \u001b[1;33m\u001b[0m\u001b[0m\n\u001b[0;32m     81\u001b[0m         \u001b[1;31m# Find all tags <div class='product-item'> and store them in 'prodct_items' list, each tag represent a product\u001b[0m\u001b[1;33m\u001b[0m\u001b[1;33m\u001b[0m\u001b[1;33m\u001b[0m\u001b[0m\n",
      "\u001b[1;32m<ipython-input-83-c54e6d8cb20a>\u001b[0m in \u001b[0;36mparser\u001b[1;34m(url)\u001b[0m\n\u001b[0;32m      2\u001b[0m \u001b[1;33m\u001b[0m\u001b[0m\n\u001b[0;32m      3\u001b[0m     \u001b[1;31m# Plain HTML code\u001b[0m\u001b[1;33m\u001b[0m\u001b[1;33m\u001b[0m\u001b[1;33m\u001b[0m\u001b[0m\n\u001b[1;32m----> 4\u001b[1;33m     \u001b[0mplain\u001b[0m \u001b[1;33m=\u001b[0m \u001b[0mrequests\u001b[0m\u001b[1;33m.\u001b[0m\u001b[0mget\u001b[0m\u001b[1;33m(\u001b[0m\u001b[0murl\u001b[0m\u001b[1;33m)\u001b[0m\u001b[1;33m.\u001b[0m\u001b[0mtext\u001b[0m\u001b[1;33m\u001b[0m\u001b[1;33m\u001b[0m\u001b[0m\n\u001b[0m\u001b[0;32m      5\u001b[0m \u001b[1;33m\u001b[0m\u001b[0m\n\u001b[0;32m      6\u001b[0m     \u001b[1;31m# Parser\u001b[0m\u001b[1;33m\u001b[0m\u001b[1;33m\u001b[0m\u001b[1;33m\u001b[0m\u001b[0m\n",
      "\u001b[1;32m~\\Anaconda3\\lib\\site-packages\\requests\\api.py\u001b[0m in \u001b[0;36mget\u001b[1;34m(url, params, **kwargs)\u001b[0m\n\u001b[0;32m     73\u001b[0m \u001b[1;33m\u001b[0m\u001b[0m\n\u001b[0;32m     74\u001b[0m     \u001b[0mkwargs\u001b[0m\u001b[1;33m.\u001b[0m\u001b[0msetdefault\u001b[0m\u001b[1;33m(\u001b[0m\u001b[1;34m'allow_redirects'\u001b[0m\u001b[1;33m,\u001b[0m \u001b[1;32mTrue\u001b[0m\u001b[1;33m)\u001b[0m\u001b[1;33m\u001b[0m\u001b[1;33m\u001b[0m\u001b[0m\n\u001b[1;32m---> 75\u001b[1;33m     \u001b[1;32mreturn\u001b[0m \u001b[0mrequest\u001b[0m\u001b[1;33m(\u001b[0m\u001b[1;34m'get'\u001b[0m\u001b[1;33m,\u001b[0m \u001b[0murl\u001b[0m\u001b[1;33m,\u001b[0m \u001b[0mparams\u001b[0m\u001b[1;33m=\u001b[0m\u001b[0mparams\u001b[0m\u001b[1;33m,\u001b[0m \u001b[1;33m**\u001b[0m\u001b[0mkwargs\u001b[0m\u001b[1;33m)\u001b[0m\u001b[1;33m\u001b[0m\u001b[1;33m\u001b[0m\u001b[0m\n\u001b[0m\u001b[0;32m     76\u001b[0m \u001b[1;33m\u001b[0m\u001b[0m\n\u001b[0;32m     77\u001b[0m \u001b[1;33m\u001b[0m\u001b[0m\n",
      "\u001b[1;32m~\\Anaconda3\\lib\\site-packages\\requests\\api.py\u001b[0m in \u001b[0;36mrequest\u001b[1;34m(method, url, **kwargs)\u001b[0m\n\u001b[0;32m     58\u001b[0m     \u001b[1;31m# cases, and look like a memory leak in others.\u001b[0m\u001b[1;33m\u001b[0m\u001b[1;33m\u001b[0m\u001b[1;33m\u001b[0m\u001b[0m\n\u001b[0;32m     59\u001b[0m     \u001b[1;32mwith\u001b[0m \u001b[0msessions\u001b[0m\u001b[1;33m.\u001b[0m\u001b[0mSession\u001b[0m\u001b[1;33m(\u001b[0m\u001b[1;33m)\u001b[0m \u001b[1;32mas\u001b[0m \u001b[0msession\u001b[0m\u001b[1;33m:\u001b[0m\u001b[1;33m\u001b[0m\u001b[1;33m\u001b[0m\u001b[0m\n\u001b[1;32m---> 60\u001b[1;33m         \u001b[1;32mreturn\u001b[0m \u001b[0msession\u001b[0m\u001b[1;33m.\u001b[0m\u001b[0mrequest\u001b[0m\u001b[1;33m(\u001b[0m\u001b[0mmethod\u001b[0m\u001b[1;33m=\u001b[0m\u001b[0mmethod\u001b[0m\u001b[1;33m,\u001b[0m \u001b[0murl\u001b[0m\u001b[1;33m=\u001b[0m\u001b[0murl\u001b[0m\u001b[1;33m,\u001b[0m \u001b[1;33m**\u001b[0m\u001b[0mkwargs\u001b[0m\u001b[1;33m)\u001b[0m\u001b[1;33m\u001b[0m\u001b[1;33m\u001b[0m\u001b[0m\n\u001b[0m\u001b[0;32m     61\u001b[0m \u001b[1;33m\u001b[0m\u001b[0m\n\u001b[0;32m     62\u001b[0m \u001b[1;33m\u001b[0m\u001b[0m\n",
      "\u001b[1;32m~\\Anaconda3\\lib\\site-packages\\requests\\sessions.py\u001b[0m in \u001b[0;36mrequest\u001b[1;34m(self, method, url, params, data, headers, cookies, files, auth, timeout, allow_redirects, proxies, hooks, stream, verify, cert, json)\u001b[0m\n\u001b[0;32m    531\u001b[0m         }\n\u001b[0;32m    532\u001b[0m         \u001b[0msend_kwargs\u001b[0m\u001b[1;33m.\u001b[0m\u001b[0mupdate\u001b[0m\u001b[1;33m(\u001b[0m\u001b[0msettings\u001b[0m\u001b[1;33m)\u001b[0m\u001b[1;33m\u001b[0m\u001b[1;33m\u001b[0m\u001b[0m\n\u001b[1;32m--> 533\u001b[1;33m         \u001b[0mresp\u001b[0m \u001b[1;33m=\u001b[0m \u001b[0mself\u001b[0m\u001b[1;33m.\u001b[0m\u001b[0msend\u001b[0m\u001b[1;33m(\u001b[0m\u001b[0mprep\u001b[0m\u001b[1;33m,\u001b[0m \u001b[1;33m**\u001b[0m\u001b[0msend_kwargs\u001b[0m\u001b[1;33m)\u001b[0m\u001b[1;33m\u001b[0m\u001b[1;33m\u001b[0m\u001b[0m\n\u001b[0m\u001b[0;32m    534\u001b[0m \u001b[1;33m\u001b[0m\u001b[0m\n\u001b[0;32m    535\u001b[0m         \u001b[1;32mreturn\u001b[0m \u001b[0mresp\u001b[0m\u001b[1;33m\u001b[0m\u001b[1;33m\u001b[0m\u001b[0m\n",
      "\u001b[1;32m~\\Anaconda3\\lib\\site-packages\\requests\\sessions.py\u001b[0m in \u001b[0;36msend\u001b[1;34m(self, request, **kwargs)\u001b[0m\n\u001b[0;32m    684\u001b[0m \u001b[1;33m\u001b[0m\u001b[0m\n\u001b[0;32m    685\u001b[0m         \u001b[1;32mif\u001b[0m \u001b[1;32mnot\u001b[0m \u001b[0mstream\u001b[0m\u001b[1;33m:\u001b[0m\u001b[1;33m\u001b[0m\u001b[1;33m\u001b[0m\u001b[0m\n\u001b[1;32m--> 686\u001b[1;33m             \u001b[0mr\u001b[0m\u001b[1;33m.\u001b[0m\u001b[0mcontent\u001b[0m\u001b[1;33m\u001b[0m\u001b[1;33m\u001b[0m\u001b[0m\n\u001b[0m\u001b[0;32m    687\u001b[0m \u001b[1;33m\u001b[0m\u001b[0m\n\u001b[0;32m    688\u001b[0m         \u001b[1;32mreturn\u001b[0m \u001b[0mr\u001b[0m\u001b[1;33m\u001b[0m\u001b[1;33m\u001b[0m\u001b[0m\n",
      "\u001b[1;32m~\\Anaconda3\\lib\\site-packages\\requests\\models.py\u001b[0m in \u001b[0;36mcontent\u001b[1;34m(self)\u001b[0m\n\u001b[0;32m    826\u001b[0m                 \u001b[0mself\u001b[0m\u001b[1;33m.\u001b[0m\u001b[0m_content\u001b[0m \u001b[1;33m=\u001b[0m \u001b[1;32mNone\u001b[0m\u001b[1;33m\u001b[0m\u001b[1;33m\u001b[0m\u001b[0m\n\u001b[0;32m    827\u001b[0m             \u001b[1;32melse\u001b[0m\u001b[1;33m:\u001b[0m\u001b[1;33m\u001b[0m\u001b[1;33m\u001b[0m\u001b[0m\n\u001b[1;32m--> 828\u001b[1;33m                 \u001b[0mself\u001b[0m\u001b[1;33m.\u001b[0m\u001b[0m_content\u001b[0m \u001b[1;33m=\u001b[0m \u001b[1;34mb''\u001b[0m\u001b[1;33m.\u001b[0m\u001b[0mjoin\u001b[0m\u001b[1;33m(\u001b[0m\u001b[0mself\u001b[0m\u001b[1;33m.\u001b[0m\u001b[0miter_content\u001b[0m\u001b[1;33m(\u001b[0m\u001b[0mCONTENT_CHUNK_SIZE\u001b[0m\u001b[1;33m)\u001b[0m\u001b[1;33m)\u001b[0m \u001b[1;32mor\u001b[0m \u001b[1;34mb''\u001b[0m\u001b[1;33m\u001b[0m\u001b[1;33m\u001b[0m\u001b[0m\n\u001b[0m\u001b[0;32m    829\u001b[0m \u001b[1;33m\u001b[0m\u001b[0m\n\u001b[0;32m    830\u001b[0m         \u001b[0mself\u001b[0m\u001b[1;33m.\u001b[0m\u001b[0m_content_consumed\u001b[0m \u001b[1;33m=\u001b[0m \u001b[1;32mTrue\u001b[0m\u001b[1;33m\u001b[0m\u001b[1;33m\u001b[0m\u001b[0m\n",
      "\u001b[1;32m~\\Anaconda3\\lib\\site-packages\\requests\\models.py\u001b[0m in \u001b[0;36mgenerate\u001b[1;34m()\u001b[0m\n\u001b[0;32m    748\u001b[0m             \u001b[1;32mif\u001b[0m \u001b[0mhasattr\u001b[0m\u001b[1;33m(\u001b[0m\u001b[0mself\u001b[0m\u001b[1;33m.\u001b[0m\u001b[0mraw\u001b[0m\u001b[1;33m,\u001b[0m \u001b[1;34m'stream'\u001b[0m\u001b[1;33m)\u001b[0m\u001b[1;33m:\u001b[0m\u001b[1;33m\u001b[0m\u001b[1;33m\u001b[0m\u001b[0m\n\u001b[0;32m    749\u001b[0m                 \u001b[1;32mtry\u001b[0m\u001b[1;33m:\u001b[0m\u001b[1;33m\u001b[0m\u001b[1;33m\u001b[0m\u001b[0m\n\u001b[1;32m--> 750\u001b[1;33m                     \u001b[1;32mfor\u001b[0m \u001b[0mchunk\u001b[0m \u001b[1;32min\u001b[0m \u001b[0mself\u001b[0m\u001b[1;33m.\u001b[0m\u001b[0mraw\u001b[0m\u001b[1;33m.\u001b[0m\u001b[0mstream\u001b[0m\u001b[1;33m(\u001b[0m\u001b[0mchunk_size\u001b[0m\u001b[1;33m,\u001b[0m \u001b[0mdecode_content\u001b[0m\u001b[1;33m=\u001b[0m\u001b[1;32mTrue\u001b[0m\u001b[1;33m)\u001b[0m\u001b[1;33m:\u001b[0m\u001b[1;33m\u001b[0m\u001b[1;33m\u001b[0m\u001b[0m\n\u001b[0m\u001b[0;32m    751\u001b[0m                         \u001b[1;32myield\u001b[0m \u001b[0mchunk\u001b[0m\u001b[1;33m\u001b[0m\u001b[1;33m\u001b[0m\u001b[0m\n\u001b[0;32m    752\u001b[0m                 \u001b[1;32mexcept\u001b[0m \u001b[0mProtocolError\u001b[0m \u001b[1;32mas\u001b[0m \u001b[0me\u001b[0m\u001b[1;33m:\u001b[0m\u001b[1;33m\u001b[0m\u001b[1;33m\u001b[0m\u001b[0m\n",
      "\u001b[1;32m~\\Anaconda3\\lib\\site-packages\\urllib3\\response.py\u001b[0m in \u001b[0;36mstream\u001b[1;34m(self, amt, decode_content)\u001b[0m\n\u001b[0;32m    488\u001b[0m         \"\"\"\n\u001b[0;32m    489\u001b[0m         \u001b[1;32mif\u001b[0m \u001b[0mself\u001b[0m\u001b[1;33m.\u001b[0m\u001b[0mchunked\u001b[0m \u001b[1;32mand\u001b[0m \u001b[0mself\u001b[0m\u001b[1;33m.\u001b[0m\u001b[0msupports_chunked_reads\u001b[0m\u001b[1;33m(\u001b[0m\u001b[1;33m)\u001b[0m\u001b[1;33m:\u001b[0m\u001b[1;33m\u001b[0m\u001b[1;33m\u001b[0m\u001b[0m\n\u001b[1;32m--> 490\u001b[1;33m             \u001b[1;32mfor\u001b[0m \u001b[0mline\u001b[0m \u001b[1;32min\u001b[0m \u001b[0mself\u001b[0m\u001b[1;33m.\u001b[0m\u001b[0mread_chunked\u001b[0m\u001b[1;33m(\u001b[0m\u001b[0mamt\u001b[0m\u001b[1;33m,\u001b[0m \u001b[0mdecode_content\u001b[0m\u001b[1;33m=\u001b[0m\u001b[0mdecode_content\u001b[0m\u001b[1;33m)\u001b[0m\u001b[1;33m:\u001b[0m\u001b[1;33m\u001b[0m\u001b[1;33m\u001b[0m\u001b[0m\n\u001b[0m\u001b[0;32m    491\u001b[0m                 \u001b[1;32myield\u001b[0m \u001b[0mline\u001b[0m\u001b[1;33m\u001b[0m\u001b[1;33m\u001b[0m\u001b[0m\n\u001b[0;32m    492\u001b[0m         \u001b[1;32melse\u001b[0m\u001b[1;33m:\u001b[0m\u001b[1;33m\u001b[0m\u001b[1;33m\u001b[0m\u001b[0m\n",
      "\u001b[1;32m~\\Anaconda3\\lib\\site-packages\\urllib3\\response.py\u001b[0m in \u001b[0;36mread_chunked\u001b[1;34m(self, amt, decode_content)\u001b[0m\n\u001b[0;32m    667\u001b[0m                 \u001b[1;32mif\u001b[0m \u001b[0mself\u001b[0m\u001b[1;33m.\u001b[0m\u001b[0mchunk_left\u001b[0m \u001b[1;33m==\u001b[0m \u001b[1;36m0\u001b[0m\u001b[1;33m:\u001b[0m\u001b[1;33m\u001b[0m\u001b[1;33m\u001b[0m\u001b[0m\n\u001b[0;32m    668\u001b[0m                     \u001b[1;32mbreak\u001b[0m\u001b[1;33m\u001b[0m\u001b[1;33m\u001b[0m\u001b[0m\n\u001b[1;32m--> 669\u001b[1;33m                 \u001b[0mchunk\u001b[0m \u001b[1;33m=\u001b[0m \u001b[0mself\u001b[0m\u001b[1;33m.\u001b[0m\u001b[0m_handle_chunk\u001b[0m\u001b[1;33m(\u001b[0m\u001b[0mamt\u001b[0m\u001b[1;33m)\u001b[0m\u001b[1;33m\u001b[0m\u001b[1;33m\u001b[0m\u001b[0m\n\u001b[0m\u001b[0;32m    670\u001b[0m                 decoded = self._decode(chunk, decode_content=decode_content,\n\u001b[0;32m    671\u001b[0m                                        flush_decoder=False)\n",
      "\u001b[1;32m~\\Anaconda3\\lib\\site-packages\\urllib3\\response.py\u001b[0m in \u001b[0;36m_handle_chunk\u001b[1;34m(self, amt)\u001b[0m\n\u001b[0;32m    613\u001b[0m             \u001b[0mself\u001b[0m\u001b[1;33m.\u001b[0m\u001b[0mchunk_left\u001b[0m \u001b[1;33m=\u001b[0m \u001b[1;32mNone\u001b[0m\u001b[1;33m\u001b[0m\u001b[1;33m\u001b[0m\u001b[0m\n\u001b[0;32m    614\u001b[0m         \u001b[1;32melif\u001b[0m \u001b[0mamt\u001b[0m \u001b[1;33m<\u001b[0m \u001b[0mself\u001b[0m\u001b[1;33m.\u001b[0m\u001b[0mchunk_left\u001b[0m\u001b[1;33m:\u001b[0m\u001b[1;33m\u001b[0m\u001b[1;33m\u001b[0m\u001b[0m\n\u001b[1;32m--> 615\u001b[1;33m             \u001b[0mvalue\u001b[0m \u001b[1;33m=\u001b[0m \u001b[0mself\u001b[0m\u001b[1;33m.\u001b[0m\u001b[0m_fp\u001b[0m\u001b[1;33m.\u001b[0m\u001b[0m_safe_read\u001b[0m\u001b[1;33m(\u001b[0m\u001b[0mamt\u001b[0m\u001b[1;33m)\u001b[0m\u001b[1;33m\u001b[0m\u001b[1;33m\u001b[0m\u001b[0m\n\u001b[0m\u001b[0;32m    616\u001b[0m             \u001b[0mself\u001b[0m\u001b[1;33m.\u001b[0m\u001b[0mchunk_left\u001b[0m \u001b[1;33m=\u001b[0m \u001b[0mself\u001b[0m\u001b[1;33m.\u001b[0m\u001b[0mchunk_left\u001b[0m \u001b[1;33m-\u001b[0m \u001b[0mamt\u001b[0m\u001b[1;33m\u001b[0m\u001b[1;33m\u001b[0m\u001b[0m\n\u001b[0;32m    617\u001b[0m             \u001b[0mreturned_chunk\u001b[0m \u001b[1;33m=\u001b[0m \u001b[0mvalue\u001b[0m\u001b[1;33m\u001b[0m\u001b[1;33m\u001b[0m\u001b[0m\n",
      "\u001b[1;32m~\\Anaconda3\\lib\\http\\client.py\u001b[0m in \u001b[0;36m_safe_read\u001b[1;34m(self, amt)\u001b[0m\n\u001b[0;32m    618\u001b[0m         \u001b[0ms\u001b[0m \u001b[1;33m=\u001b[0m \u001b[1;33m[\u001b[0m\u001b[1;33m]\u001b[0m\u001b[1;33m\u001b[0m\u001b[1;33m\u001b[0m\u001b[0m\n\u001b[0;32m    619\u001b[0m         \u001b[1;32mwhile\u001b[0m \u001b[0mamt\u001b[0m \u001b[1;33m>\u001b[0m \u001b[1;36m0\u001b[0m\u001b[1;33m:\u001b[0m\u001b[1;33m\u001b[0m\u001b[1;33m\u001b[0m\u001b[0m\n\u001b[1;32m--> 620\u001b[1;33m             \u001b[0mchunk\u001b[0m \u001b[1;33m=\u001b[0m \u001b[0mself\u001b[0m\u001b[1;33m.\u001b[0m\u001b[0mfp\u001b[0m\u001b[1;33m.\u001b[0m\u001b[0mread\u001b[0m\u001b[1;33m(\u001b[0m\u001b[0mmin\u001b[0m\u001b[1;33m(\u001b[0m\u001b[0mamt\u001b[0m\u001b[1;33m,\u001b[0m \u001b[0mMAXAMOUNT\u001b[0m\u001b[1;33m)\u001b[0m\u001b[1;33m)\u001b[0m\u001b[1;33m\u001b[0m\u001b[1;33m\u001b[0m\u001b[0m\n\u001b[0m\u001b[0;32m    621\u001b[0m             \u001b[1;32mif\u001b[0m \u001b[1;32mnot\u001b[0m \u001b[0mchunk\u001b[0m\u001b[1;33m:\u001b[0m\u001b[1;33m\u001b[0m\u001b[1;33m\u001b[0m\u001b[0m\n\u001b[0;32m    622\u001b[0m                 \u001b[1;32mraise\u001b[0m \u001b[0mIncompleteRead\u001b[0m\u001b[1;33m(\u001b[0m\u001b[1;34mb''\u001b[0m\u001b[1;33m.\u001b[0m\u001b[0mjoin\u001b[0m\u001b[1;33m(\u001b[0m\u001b[0ms\u001b[0m\u001b[1;33m)\u001b[0m\u001b[1;33m,\u001b[0m \u001b[0mamt\u001b[0m\u001b[1;33m)\u001b[0m\u001b[1;33m\u001b[0m\u001b[1;33m\u001b[0m\u001b[0m\n",
      "\u001b[1;32m~\\Anaconda3\\lib\\socket.py\u001b[0m in \u001b[0;36mreadinto\u001b[1;34m(self, b)\u001b[0m\n\u001b[0;32m    587\u001b[0m         \u001b[1;32mwhile\u001b[0m \u001b[1;32mTrue\u001b[0m\u001b[1;33m:\u001b[0m\u001b[1;33m\u001b[0m\u001b[1;33m\u001b[0m\u001b[0m\n\u001b[0;32m    588\u001b[0m             \u001b[1;32mtry\u001b[0m\u001b[1;33m:\u001b[0m\u001b[1;33m\u001b[0m\u001b[1;33m\u001b[0m\u001b[0m\n\u001b[1;32m--> 589\u001b[1;33m                 \u001b[1;32mreturn\u001b[0m \u001b[0mself\u001b[0m\u001b[1;33m.\u001b[0m\u001b[0m_sock\u001b[0m\u001b[1;33m.\u001b[0m\u001b[0mrecv_into\u001b[0m\u001b[1;33m(\u001b[0m\u001b[0mb\u001b[0m\u001b[1;33m)\u001b[0m\u001b[1;33m\u001b[0m\u001b[1;33m\u001b[0m\u001b[0m\n\u001b[0m\u001b[0;32m    590\u001b[0m             \u001b[1;32mexcept\u001b[0m \u001b[0mtimeout\u001b[0m\u001b[1;33m:\u001b[0m\u001b[1;33m\u001b[0m\u001b[1;33m\u001b[0m\u001b[0m\n\u001b[0;32m    591\u001b[0m                 \u001b[0mself\u001b[0m\u001b[1;33m.\u001b[0m\u001b[0m_timeout_occurred\u001b[0m \u001b[1;33m=\u001b[0m \u001b[1;32mTrue\u001b[0m\u001b[1;33m\u001b[0m\u001b[1;33m\u001b[0m\u001b[0m\n",
      "\u001b[1;32m~\\Anaconda3\\lib\\site-packages\\urllib3\\contrib\\pyopenssl.py\u001b[0m in \u001b[0;36mrecv_into\u001b[1;34m(self, *args, **kwargs)\u001b[0m\n\u001b[0;32m    295\u001b[0m     \u001b[1;32mdef\u001b[0m \u001b[0mrecv_into\u001b[0m\u001b[1;33m(\u001b[0m\u001b[0mself\u001b[0m\u001b[1;33m,\u001b[0m \u001b[1;33m*\u001b[0m\u001b[0margs\u001b[0m\u001b[1;33m,\u001b[0m \u001b[1;33m**\u001b[0m\u001b[0mkwargs\u001b[0m\u001b[1;33m)\u001b[0m\u001b[1;33m:\u001b[0m\u001b[1;33m\u001b[0m\u001b[1;33m\u001b[0m\u001b[0m\n\u001b[0;32m    296\u001b[0m         \u001b[1;32mtry\u001b[0m\u001b[1;33m:\u001b[0m\u001b[1;33m\u001b[0m\u001b[1;33m\u001b[0m\u001b[0m\n\u001b[1;32m--> 297\u001b[1;33m             \u001b[1;32mreturn\u001b[0m \u001b[0mself\u001b[0m\u001b[1;33m.\u001b[0m\u001b[0mconnection\u001b[0m\u001b[1;33m.\u001b[0m\u001b[0mrecv_into\u001b[0m\u001b[1;33m(\u001b[0m\u001b[1;33m*\u001b[0m\u001b[0margs\u001b[0m\u001b[1;33m,\u001b[0m \u001b[1;33m**\u001b[0m\u001b[0mkwargs\u001b[0m\u001b[1;33m)\u001b[0m\u001b[1;33m\u001b[0m\u001b[1;33m\u001b[0m\u001b[0m\n\u001b[0m\u001b[0;32m    298\u001b[0m         \u001b[1;32mexcept\u001b[0m \u001b[0mOpenSSL\u001b[0m\u001b[1;33m.\u001b[0m\u001b[0mSSL\u001b[0m\u001b[1;33m.\u001b[0m\u001b[0mSysCallError\u001b[0m \u001b[1;32mas\u001b[0m \u001b[0me\u001b[0m\u001b[1;33m:\u001b[0m\u001b[1;33m\u001b[0m\u001b[1;33m\u001b[0m\u001b[0m\n\u001b[0;32m    299\u001b[0m             \u001b[1;32mif\u001b[0m \u001b[0mself\u001b[0m\u001b[1;33m.\u001b[0m\u001b[0msuppress_ragged_eofs\u001b[0m \u001b[1;32mand\u001b[0m \u001b[0me\u001b[0m\u001b[1;33m.\u001b[0m\u001b[0margs\u001b[0m \u001b[1;33m==\u001b[0m \u001b[1;33m(\u001b[0m\u001b[1;33m-\u001b[0m\u001b[1;36m1\u001b[0m\u001b[1;33m,\u001b[0m \u001b[1;34m'Unexpected EOF'\u001b[0m\u001b[1;33m)\u001b[0m\u001b[1;33m:\u001b[0m\u001b[1;33m\u001b[0m\u001b[1;33m\u001b[0m\u001b[0m\n",
      "\u001b[1;32m~\\Anaconda3\\lib\\site-packages\\OpenSSL\\SSL.py\u001b[0m in \u001b[0;36mrecv_into\u001b[1;34m(self, buffer, nbytes, flags)\u001b[0m\n\u001b[0;32m   1819\u001b[0m             \u001b[0mresult\u001b[0m \u001b[1;33m=\u001b[0m \u001b[0m_lib\u001b[0m\u001b[1;33m.\u001b[0m\u001b[0mSSL_peek\u001b[0m\u001b[1;33m(\u001b[0m\u001b[0mself\u001b[0m\u001b[1;33m.\u001b[0m\u001b[0m_ssl\u001b[0m\u001b[1;33m,\u001b[0m \u001b[0mbuf\u001b[0m\u001b[1;33m,\u001b[0m \u001b[0mnbytes\u001b[0m\u001b[1;33m)\u001b[0m\u001b[1;33m\u001b[0m\u001b[1;33m\u001b[0m\u001b[0m\n\u001b[0;32m   1820\u001b[0m         \u001b[1;32melse\u001b[0m\u001b[1;33m:\u001b[0m\u001b[1;33m\u001b[0m\u001b[1;33m\u001b[0m\u001b[0m\n\u001b[1;32m-> 1821\u001b[1;33m             \u001b[0mresult\u001b[0m \u001b[1;33m=\u001b[0m \u001b[0m_lib\u001b[0m\u001b[1;33m.\u001b[0m\u001b[0mSSL_read\u001b[0m\u001b[1;33m(\u001b[0m\u001b[0mself\u001b[0m\u001b[1;33m.\u001b[0m\u001b[0m_ssl\u001b[0m\u001b[1;33m,\u001b[0m \u001b[0mbuf\u001b[0m\u001b[1;33m,\u001b[0m \u001b[0mnbytes\u001b[0m\u001b[1;33m)\u001b[0m\u001b[1;33m\u001b[0m\u001b[1;33m\u001b[0m\u001b[0m\n\u001b[0m\u001b[0;32m   1822\u001b[0m         \u001b[0mself\u001b[0m\u001b[1;33m.\u001b[0m\u001b[0m_raise_ssl_error\u001b[0m\u001b[1;33m(\u001b[0m\u001b[0mself\u001b[0m\u001b[1;33m.\u001b[0m\u001b[0m_ssl\u001b[0m\u001b[1;33m,\u001b[0m \u001b[0mresult\u001b[0m\u001b[1;33m)\u001b[0m\u001b[1;33m\u001b[0m\u001b[1;33m\u001b[0m\u001b[0m\n\u001b[0;32m   1823\u001b[0m \u001b[1;33m\u001b[0m\u001b[0m\n",
      "\u001b[1;31mKeyboardInterrupt\u001b[0m: "
     ]
    }
   ],
   "source": [
    "product.scrape_all()"
   ]
  },
  {
   "cell_type": "code",
   "execution_count": 2,
   "metadata": {},
   "outputs": [],
   "source": [
    "def zii(a):\n",
    "    url = a\n",
    "    print(url)"
   ]
  },
  {
   "cell_type": "code",
   "execution_count": 3,
   "metadata": {},
   "outputs": [
    {
     "name": "stdout",
     "output_type": "stream",
     "text": [
      "success\n"
     ]
    }
   ],
   "source": [
    "zii(\"success\")"
   ]
  },
  {
   "cell_type": "code",
   "execution_count": null,
   "metadata": {},
   "outputs": [],
   "source": []
  },
  {
   "cell_type": "code",
   "execution_count": null,
   "metadata": {},
   "outputs": [],
   "source": []
  },
  {
   "cell_type": "code",
   "execution_count": null,
   "metadata": {},
   "outputs": [],
   "source": []
  },
  {
   "cell_type": "code",
   "execution_count": null,
   "metadata": {},
   "outputs": [],
   "source": []
  },
  {
   "cell_type": "code",
   "execution_count": null,
   "metadata": {},
   "outputs": [],
   "source": []
  },
  {
   "cell_type": "code",
   "execution_count": null,
   "metadata": {},
   "outputs": [],
   "source": []
  },
  {
   "cell_type": "code",
   "execution_count": null,
   "metadata": {},
   "outputs": [],
   "source": []
  },
  {
   "cell_type": "code",
   "execution_count": null,
   "metadata": {},
   "outputs": [],
   "source": []
  },
  {
   "cell_type": "code",
   "execution_count": null,
   "metadata": {},
   "outputs": [],
   "source": []
  },
  {
   "cell_type": "code",
   "execution_count": null,
   "metadata": {},
   "outputs": [],
   "source": []
  },
  {
   "cell_type": "code",
   "execution_count": null,
   "metadata": {},
   "outputs": [],
   "source": []
  },
  {
   "cell_type": "code",
   "execution_count": null,
   "metadata": {},
   "outputs": [],
   "source": []
  },
  {
   "cell_type": "code",
   "execution_count": null,
   "metadata": {},
   "outputs": [],
   "source": []
  },
  {
   "cell_type": "code",
   "execution_count": null,
   "metadata": {},
   "outputs": [],
   "source": []
  },
  {
   "cell_type": "code",
   "execution_count": null,
   "metadata": {},
   "outputs": [],
   "source": []
  },
  {
   "cell_type": "code",
   "execution_count": null,
   "metadata": {},
   "outputs": [],
   "source": []
  },
  {
   "cell_type": "code",
   "execution_count": null,
   "metadata": {},
   "outputs": [],
   "source": []
  },
  {
   "cell_type": "code",
   "execution_count": null,
   "metadata": {},
   "outputs": [],
   "source": []
  },
  {
   "cell_type": "code",
   "execution_count": null,
   "metadata": {},
   "outputs": [],
   "source": []
  },
  {
   "cell_type": "code",
   "execution_count": 44,
   "metadata": {},
   "outputs": [],
   "source": [
    "# Function to insert new data to our table\n",
    "def insert_data_to_db(data):\n",
    "    \n",
    "    print('INFO insert_data_to_db(): Insert data to DB')\n",
    "    \n",
    "    try:\n",
    "        # Create connection & cursor \n",
    "        connection = get_connection()\n",
    "        cursor = connection.cursor()\n",
    "        \n",
    "        # For each row (product) in data (product page),...\n",
    "        for row in data:\n",
    "            # Create the query to insert product information to 'table_name'\n",
    "            query =  f\"\"\"\n",
    "            INSERT INTO products (product_id,title,price,img_url,category) \n",
    "            VALUES (%s, %s, %s, %s, %s) RETURNING product_number;\n",
    "        \"\"\"\n",
    "            \n",
    "            # Execute the query\n",
    "            cursor.execute(query)\n",
    "            \n",
    "            # Commit the changes made to our database\n",
    "            connection.commit()\n",
    "\n",
    "    except (Exception, psycopg2.Error) as error :\n",
    "        print (\"ERROR save_data_to_db(): Error while connecting to PostgreSQL\", error)\n",
    "        \n",
    "        # In case of error, cancel all changes made to our database during the connection\n",
    "        connection.close()\n",
    "        \n",
    "    finally:\n",
    "        \n",
    "        # Close the connection & cursor\n",
    "        cursor.close()\n",
    "        connection.close()"
   ]
  },
  {
   "cell_type": "code",
   "execution_count": 66,
   "metadata": {},
   "outputs": [],
   "source": [
    "# Function to get all data from table 'products'\n",
    "def select_data_from_db():\n",
    "    \n",
    "    try:\n",
    "        # Create connection & cursor \n",
    "        connection = get_connection()\n",
    "        cursor = connection.cursor()\n",
    "        \n",
    "        # Get all data from table 'products'\n",
    "        query = 'SELECT * FROM products;'\n",
    "        cursor.execute(query)      \n",
    "        \n",
    "        # Fetch (Collect) the data and save them in 'data'\n",
    "        data = cursor.fetch()\n",
    "        \n",
    "        return data\n",
    "\n",
    "    except (Exception, psycopg2.Error) as error :\n",
    "        print (\"ERROR save_data_to_db(): Error while connecting to PostgreSQL\", error)\n",
    "        \n",
    "        # In case of error, cancel all changes made to our database during the connection\n",
    "        connection.close()\n",
    "        \n",
    "    finally:\n",
    "        \n",
    "        # Close the connection & cursor\n",
    "        cursor.close()\n",
    "        connection.close()"
   ]
  },
  {
   "cell_type": "code",
   "execution_count": 64,
   "metadata": {},
   "outputs": [],
   "source": [
    "cat = get_urls()"
   ]
  },
  {
   "cell_type": "code",
   "execution_count": 29,
   "metadata": {},
   "outputs": [
    {
     "data": {
      "text/plain": [
       "'https://tiki.vn/voucher-dich-vu/c11312?src=c.11312.hamburger_menu_fly_out_banner&page=1'"
      ]
     },
     "execution_count": 29,
     "metadata": {},
     "output_type": "execute_result"
    }
   ],
   "source": [
    "cat[-1][1]"
   ]
  },
  {
   "cell_type": "code",
   "execution_count": null,
   "metadata": {},
   "outputs": [],
   "source": []
  },
  {
   "cell_type": "code",
   "execution_count": 46,
   "metadata": {},
   "outputs": [],
   "source": [
    "# Web scrape function\n",
    "def scrape(cat, url):\n",
    "    \n",
    "    # Initialize empty 'results' list\n",
    "    results = []\n",
    "   \n",
    "    # Run Parser on the product page\n",
    "    s = parser(url)\n",
    "    \n",
    "    # Find all tags <div class='product-item'> and store them in 'prodct_items' list, each tag represent a product\n",
    "    product_items = s.findAll('div',{'class':'product-item'})\n",
    "    \n",
    "    # If the tag list is empty (i.e. the page doesn't have any product), return an empty list.\n",
    "    if len(product_items) == 0:\n",
    "      return []\n",
    "\n",
    "    # If the tag list is not empty (i.e. the page has products),...\n",
    "    else: \n",
    "        \n",
    "        # Iterate through all product and store the product information in the 'row' list\n",
    "        for i in range(len(product_items)):\n",
    "\n",
    "            row = [product_items[i]['data-id'],            \n",
    "                   product_items[i]['data-title'],\n",
    "                   product_items[i]['data-price'], \n",
    "                   product_items[i].find('img',{'class':'product-image img-responsive'})['src'], \n",
    "                   product_items[i]['data-category'],\n",
    "                   cat]   \n",
    "\n",
    "            # Add the product information of each product into 'results' list\n",
    "            results.append(row)\n",
    "            \n",
    "    # Return the list `results`   \n",
    "    return results"
   ]
  },
  {
   "cell_type": "code",
   "execution_count": 67,
   "metadata": {},
   "outputs": [],
   "source": [
    "a=scrape(cat[-1][0],cat[-1][1])"
   ]
  },
  {
   "cell_type": "code",
   "execution_count": 70,
   "metadata": {},
   "outputs": [
    {
     "data": {
      "text/plain": [
       "['26686172',\n",
       " 'Nhà Hàng Rạng Đông - Buffet Chay Buổi Trưa Hơn 40 Món',\n",
       " '119000',\n",
       " 'https://salt.tikicdn.com/cache/200x200/ts/product/8a/ce/61/8570f86284905f1da1cb131f8da415cd.jpg',\n",
       " 'Voucher - Dịch vụ/Nhà hàng - Ăn uống/Buffet/Buffet Chay',\n",
       " 'Voucher - Dịch Vụ - Thẻ Cào']"
      ]
     },
     "execution_count": 70,
     "metadata": {},
     "output_type": "execute_result"
    }
   ],
   "source": [
    "data[0]"
   ]
  },
  {
   "cell_type": "code",
   "execution_count": 75,
   "metadata": {},
   "outputs": [],
   "source": [
    "# Function to insert new data to our table\n",
    "def insert_data_to_db(data):\n",
    "    \n",
    "    print('INFO insert_data_to_db(): Insert data to DB')\n",
    "    \n",
    "    try:\n",
    "        # Create connection & cursor \n",
    "        connection = get_connection()\n",
    "        cursor = connection.cursor()\n",
    "        \n",
    "        # For each row (product) in data (product page),...\n",
    "        for row in data:\n",
    "            # Create the query to insert product information to 'table_name'\n",
    "            query =  f\"\"\"\n",
    "            INSERT INTO products (product_id, title, prices, img_url, category) \n",
    "            VALUES (%s, %s, %s, %s, %s) RETURNING product_number;\n",
    "        \"\"\"\n",
    "            val = (row[0], row[1], row[2], row[3], row[4])\n",
    "            \n",
    "            \n",
    "            # Execute the query\n",
    "            cursor.execute(query, val)\n",
    "            \n",
    "            # Commit the changes made to our database\n",
    "            connection.commit()\n",
    "\n",
    "    except (Exception, psycopg2.Error) as error :\n",
    "        print (\"ERROR save_data_to_db(): Error while connecting to PostgreSQL\", error)\n",
    "        \n",
    "        # In case of error, cancel all changes made to our database during the connection\n",
    "        connection.close()\n",
    "        \n",
    "    finally:\n",
    "        \n",
    "        # Close the connection & cursor\n",
    "        cursor.close()\n",
    "        connection.close()"
   ]
  },
  {
   "cell_type": "code",
   "execution_count": 76,
   "metadata": {
    "scrolled": true
   },
   "outputs": [
    {
     "name": "stdout",
     "output_type": "stream",
     "text": [
      "INFO insert_data_to_db(): Insert data to DB\n"
     ]
    }
   ],
   "source": [
    "insert_data_to_db(a)"
   ]
  },
  {
   "cell_type": "code",
   "execution_count": 100,
   "metadata": {},
   "outputs": [],
   "source": [
    "def scrape_all():\n",
    "    print('INFO scrape_all(): Start scraping')\n",
    "    \n",
    "    # Initialize 'queue' list with the results of get_urls()\n",
    "    queue = get_urls()\n",
    "    \n",
    "    # Create table `products` if it doesn't exist yet\n",
    "    create_products_table()\n",
    "    \n",
    "    \n",
    "    # While there are items in `queue`,...\n",
    "    while queue is not None:\n",
    "        for i in range (len(queue)):\n",
    "          \n",
    "          # `url` is set to the url of last item in `queue`\n",
    "          url = queue[-1][1]\n",
    "      \n",
    "          # `cat` is set to the category of last item in `queue`\n",
    "          cat = queue[-1][0]\n",
    "    \n",
    "          # Remove the last item in queue\n",
    "          queue = queue[:-1]\n",
    "          results = scrape(cat, url, cat_id)\n",
    "          print('Scraping', cat)\n",
    "\n",
    "          # Run scrape(cat, url) with given `cat` and `url`\n",
    "          new_rows = scrape(cat,url)\n",
    "\n",
    "          # If the result of scrape(cat, url) is not an empty list (i.e. the page has products),...  \n",
    "          if new_rows is not None:\n",
    "        \n",
    "              # Insert the result of scrape(cat, url) to table `product`\n",
    "              insert_data_to_db(new_rows, products)\n",
    "        \n",
    "              results += new_rows  # This is what we did in the first week\n",
    "              \n",
    "           \n",
    "              # Generate next page url \n",
    "              page = page+1\n",
    "              url= url.split(\"&\")[0]+\"&\"+\"page\"+str(i+1)\n",
    "        \n",
    "\n",
    "            \n",
    "              print('Add next page', page)\n",
    "    \n",
    "    print('Task completed!')"
   ]
  },
  {
   "cell_type": "code",
   "execution_count": 101,
   "metadata": {},
   "outputs": [
    {
     "name": "stdout",
     "output_type": "stream",
     "text": [
      "INFO scrape_all(): Start scraping\n",
      "INFO create_products_table(): Create table products\n",
      "Scraping Voucher - Dịch Vụ - Thẻ Cào\n"
     ]
    },
    {
     "ename": "NameError",
     "evalue": "name 'products' is not defined",
     "output_type": "error",
     "traceback": [
      "\u001b[1;31m---------------------------------------------------------------------------\u001b[0m",
      "\u001b[1;31mNameError\u001b[0m                                 Traceback (most recent call last)",
      "\u001b[1;32m<ipython-input-101-8eb40295d3fa>\u001b[0m in \u001b[0;36m<module>\u001b[1;34m\u001b[0m\n\u001b[1;32m----> 1\u001b[1;33m \u001b[0mscrape_all\u001b[0m\u001b[1;33m(\u001b[0m\u001b[1;33m)\u001b[0m\u001b[1;33m\u001b[0m\u001b[1;33m\u001b[0m\u001b[0m\n\u001b[0m",
      "\u001b[1;32m<ipython-input-100-85819a3b3a80>\u001b[0m in \u001b[0;36mscrape_all\u001b[1;34m()\u001b[0m\n\u001b[0;32m     31\u001b[0m \u001b[1;33m\u001b[0m\u001b[0m\n\u001b[0;32m     32\u001b[0m               \u001b[1;31m# Insert the result of scrape(cat, url) to table `product`\u001b[0m\u001b[1;33m\u001b[0m\u001b[1;33m\u001b[0m\u001b[1;33m\u001b[0m\u001b[0m\n\u001b[1;32m---> 33\u001b[1;33m               \u001b[0minsert_data_to_db\u001b[0m\u001b[1;33m(\u001b[0m\u001b[0mnew_rows\u001b[0m\u001b[1;33m,\u001b[0m \u001b[0mproducts\u001b[0m\u001b[1;33m)\u001b[0m\u001b[1;33m\u001b[0m\u001b[1;33m\u001b[0m\u001b[0m\n\u001b[0m\u001b[0;32m     34\u001b[0m \u001b[1;33m\u001b[0m\u001b[0m\n\u001b[0;32m     35\u001b[0m               \u001b[0mresults\u001b[0m \u001b[1;33m+=\u001b[0m \u001b[0mnew_rows\u001b[0m  \u001b[1;31m# This is what we did in the first week\u001b[0m\u001b[1;33m\u001b[0m\u001b[1;33m\u001b[0m\u001b[0m\n",
      "\u001b[1;31mNameError\u001b[0m: name 'products' is not defined"
     ]
    }
   ],
   "source": [
    "scrape_all()"
   ]
  },
  {
   "cell_type": "code",
   "execution_count": 94,
   "metadata": {},
   "outputs": [
    {
     "name": "stdout",
     "output_type": "stream",
     "text": [
      "8\n",
      "7\n",
      "6\n",
      "5\n",
      "4\n",
      "3\n",
      "2\n",
      "1\n"
     ]
    }
   ],
   "source": [
    "l=[1,2,3,4,5,6,7,8]\n",
    "for i in range (len(l)):\n",
    "    print(l[-i -1])"
   ]
  },
  {
   "cell_type": "code",
   "execution_count": 96,
   "metadata": {},
   "outputs": [
    {
     "name": "stdout",
     "output_type": "stream",
     "text": [
      "https://tiki.vn/voucher-dich-vu/c11312?src=c.11312.hamburger_menu_fly_out_banner&page=2\n"
     ]
    }
   ],
   "source": [
    "url = \"https://tiki.vn/voucher-dich-vu/c11312?src=c.11312.hamburger_menu_fly_out_banner&page=1\"\n",
    "print(url.split(\"&\")[0]+\"&\"+\"page=\"+str(2))"
   ]
  },
  {
   "cell_type": "code",
   "execution_count": null,
   "metadata": {},
   "outputs": [],
   "source": []
  }
 ],
 "metadata": {
  "kernelspec": {
   "display_name": "Python 3",
   "language": "python",
   "name": "python3"
  },
  "language_info": {
   "codemirror_mode": {
    "name": "ipython",
    "version": 3
   },
   "file_extension": ".py",
   "mimetype": "text/x-python",
   "name": "python",
   "nbconvert_exporter": "python",
   "pygments_lexer": "ipython3",
   "version": "3.7.4"
  }
 },
 "nbformat": 4,
 "nbformat_minor": 2
}
