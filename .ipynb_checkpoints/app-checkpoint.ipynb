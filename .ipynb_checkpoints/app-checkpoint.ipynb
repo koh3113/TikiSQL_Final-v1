{
 "cells": [
  {
   "cell_type": "code",
   "execution_count": 21,
   "metadata": {},
   "outputs": [],
   "source": [
    "# Import libraries\n",
    "import pandas as pd\n",
    "import requests\n",
    "import psycopg2\n",
    "import sqlalchemy\n",
    "from bs4 import BeautifulSoup\n",
    "import numpy as np"
   ]
  },
  {
   "cell_type": "code",
   "execution_count": 15,
   "metadata": {},
   "outputs": [],
   "source": [
    "\n",
    "\n",
    "con='postgres://lenovo:1@localhost:5432/coderschool'"
   ]
  },
  {
   "cell_type": "code",
   "execution_count": null,
   "metadata": {},
   "outputs": [],
   "source": []
  },
  {
   "cell_type": "code",
   "execution_count": 22,
   "metadata": {},
   "outputs": [],
   "source": [
    "def import_data_from_psql():\n",
    "    \"\"\"Import data from psql; clean & merge dataframes.\"\"\"\n",
    "    library = pd.read_sql_table(\n",
    "        'products2',\n",
    "        con=con,\n",
    "        columns=['product_number', 'product_id', 'title', 'price', 'img_url', 'category_name', 'category_id'])\n",
    "    return library"
   ]
  },
  {
   "cell_type": "code",
   "execution_count": 24,
   "metadata": {},
   "outputs": [],
   "source": [
    "data = import_data_from_psql()"
   ]
  },
  {
   "cell_type": "code",
   "execution_count": 27,
   "metadata": {},
   "outputs": [
    {
     "name": "stdout",
     "output_type": "stream",
     "text": [
      "        product_number  product_id  \\\n",
      "0                    1     4805279   \n",
      "1                    2     4433517   \n",
      "2                    3     5477791   \n",
      "3                    4    26651177   \n",
      "4                    5     9820705   \n",
      "...                ...         ...   \n",
      "105875          105872    12716211   \n",
      "105876          105873    23814124   \n",
      "105877          105874    23813996   \n",
      "105878          105875    23944391   \n",
      "105879          105880     5952825   \n",
      "\n",
      "                                                    title    price  \\\n",
      "0           Tất, vớ cổ ngắn chống hôi chân (Combo 10 đôi)    65886   \n",
      "1                 Bộ 5 Đôi Tất Nam Cổ Ngắn Chống Hôi Chân    32870   \n",
      "2       Hộp 10 Đôi Tất Cổ Cao Chống Hôi Chân Xuất Nhật...    68230   \n",
      "3       Combo 5 Đôi Tất Vớ Nam Cổ Trung Cao Cấp Nhật B...    62000   \n",
      "4       Sét 5 đôi tất nam đen ngắn cổ thoáng khí hút m...    77715   \n",
      "...                                                   ...      ...   \n",
      "105875  Combo móc dán tường chịu được lực treo 15kg + ...  1029000   \n",
      "105876                           Móc 5 Vuông Hofaco HPG97    14000   \n",
      "105877                         Móc Hình Nhà Hofaco HPG115    15000   \n",
      "105878                             Móc 3 Sọc Hofaco HPG25    13000   \n",
      "105879  Móc Treo Khăn Hút Chân Không (Hình Bán Nguyệt)...    77000   \n",
      "\n",
      "                                                  img_url  \\\n",
      "0       https://salt.tikicdn.com/cache/200x296/ts/prod...   \n",
      "1       https://salt.tikicdn.com/cache/200x296/ts/prod...   \n",
      "2       https://salt.tikicdn.com/cache/200x296/ts/prod...   \n",
      "3       https://salt.tikicdn.com/cache/200x296/ts/prod...   \n",
      "4       https://salt.tikicdn.com/cache/200x296/ts/prod...   \n",
      "...                                                   ...   \n",
      "105875  https://salt.tikicdn.com/cache/200x200/ts/prod...   \n",
      "105876  https://salt.tikicdn.com/cache/200x200/ts/prod...   \n",
      "105877  https://salt.tikicdn.com/cache/200x200/ts/prod...   \n",
      "105878  https://salt.tikicdn.com/cache/200x200/ts/prod...   \n",
      "105879  https://salt.tikicdn.com/cache/200x200/ts/prod...   \n",
      "\n",
      "                                            category_name  category_id  \n",
      "0       Thời Trang/Thời trang nam/Phụ kiện thời trang ...         2209  \n",
      "1       Thời Trang/Thời trang nam/Phụ kiện thời trang ...         2209  \n",
      "2       Thời Trang/Thời trang nam/Phụ kiện thời trang ...         2209  \n",
      "3       Thời Trang/Thời trang nam/Phụ kiện thời trang ...         2209  \n",
      "4       Thời Trang/Thời trang nam/Phụ kiện thời trang ...         2209  \n",
      "...                                                   ...          ...  \n",
      "105875  Nhà Cửa - Đời Sống/Trang trí nhà cửa/Móc treo,...          438  \n",
      "105876  Nhà Cửa - Đời Sống/Trang trí nhà cửa/Móc treo,...          438  \n",
      "105877  Nhà Cửa - Đời Sống/Trang trí nhà cửa/Móc treo,...          438  \n",
      "105878  Nhà Cửa - Đời Sống/Trang trí nhà cửa/Móc treo,...          438  \n",
      "105879  Nhà Cửa - Đời Sống/Trang trí nhà cửa/Móc treo,...          438  \n",
      "\n",
      "[105880 rows x 7 columns]\n"
     ]
    }
   ],
   "source": [
    "print(data)"
   ]
  },
  {
   "cell_type": "code",
   "execution_count": 25,
   "metadata": {},
   "outputs": [],
   "source": [
    "df = pd.DataFrame(np.array(data))"
   ]
  },
  {
   "cell_type": "code",
   "execution_count": 30,
   "metadata": {},
   "outputs": [
    {
     "name": "stdout",
     "output_type": "stream",
     "text": [
      "https://salt.tikicdn.com/cache/200x296/ts/product/60/f2/26/3e6a5d356581dca79e38a46f43d7d8f9.jpg\n"
     ]
    }
   ],
   "source": [
    "df.iloc[0][co]"
   ]
  },
  {
   "cell_type": "code",
   "execution_count": 36,
   "metadata": {},
   "outputs": [],
   "source": [
    "class Products:\n",
    "    def __init__(self, product_number, product_id, title, price, img_url, category_name, category_id):\n",
    "        self.product_number = product_number\n",
    "        self.product_id = product_id\n",
    "        self.title = title\n",
    "        self.price = price\n",
    "        self.img_url = img_url\n",
    "        self.category_name = category_name\n",
    "        self.category_id = category_id\n",
    "        \n",
    "    def select_data_from_db(row):\n",
    "        product_number = df.iloc[row][0]\n",
    "        product_id = df.iloc[row][1]\n",
    "        title = df.iloc[row][2]\n",
    "        price = df.iloc[row][3]\n",
    "        img_url = df.iloc[row][4]\n",
    "        category_name = df.iloc[row][5]\n",
    "        category_id = df.iloc[row][6]"
   ]
  },
  {
   "cell_type": "code",
   "execution_count": 40,
   "metadata": {},
   "outputs": [
    {
     "ename": "TypeError",
     "evalue": "select_data_from_db() takes 1 positional argument but 2 were given",
     "output_type": "error",
     "traceback": [
      "\u001b[1;31m---------------------------------------------------------------------------\u001b[0m",
      "\u001b[1;31mTypeError\u001b[0m                                 Traceback (most recent call last)",
      "\u001b[1;32m<ipython-input-40-a4eb45d1c6ba>\u001b[0m in \u001b[0;36m<module>\u001b[1;34m\u001b[0m\n\u001b[0;32m      1\u001b[0m \u001b[0mproduct\u001b[0m \u001b[1;33m=\u001b[0m \u001b[0mProducts\u001b[0m\u001b[1;33m(\u001b[0m\u001b[1;36m1\u001b[0m\u001b[1;33m,\u001b[0m\u001b[1;36m1\u001b[0m\u001b[1;33m,\u001b[0m\u001b[1;36m1\u001b[0m\u001b[1;33m,\u001b[0m\u001b[1;36m1\u001b[0m\u001b[1;33m,\u001b[0m\u001b[1;36m1\u001b[0m\u001b[1;33m,\u001b[0m\u001b[1;36m1\u001b[0m\u001b[1;33m,\u001b[0m\u001b[1;36m1\u001b[0m\u001b[1;33m)\u001b[0m\u001b[1;33m\u001b[0m\u001b[1;33m\u001b[0m\u001b[0m\n\u001b[0;32m      2\u001b[0m \u001b[1;32mfor\u001b[0m \u001b[0mi\u001b[0m \u001b[1;32min\u001b[0m \u001b[0mrange\u001b[0m\u001b[1;33m(\u001b[0m\u001b[1;36m100\u001b[0m\u001b[1;33m)\u001b[0m\u001b[1;33m:\u001b[0m\u001b[1;33m\u001b[0m\u001b[1;33m\u001b[0m\u001b[0m\n\u001b[1;32m----> 3\u001b[1;33m     \u001b[0mproduct\u001b[0m\u001b[1;33m.\u001b[0m\u001b[0mselect_data_from_db\u001b[0m\u001b[1;33m(\u001b[0m\u001b[0mi\u001b[0m\u001b[1;33m)\u001b[0m\u001b[1;33m\u001b[0m\u001b[1;33m\u001b[0m\u001b[0m\n\u001b[0m\u001b[0;32m      4\u001b[0m     \u001b[0mprint\u001b[0m\u001b[1;33m(\u001b[0m\u001b[0mproduct\u001b[0m\u001b[1;33m.\u001b[0m\u001b[0mproduct_number\u001b[0m\u001b[1;33m)\u001b[0m\u001b[1;33m\u001b[0m\u001b[1;33m\u001b[0m\u001b[0m\n\u001b[0;32m      5\u001b[0m \u001b[1;33m\u001b[0m\u001b[0m\n",
      "\u001b[1;31mTypeError\u001b[0m: select_data_from_db() takes 1 positional argument but 2 were given"
     ]
    }
   ],
   "source": [
    "product = Products\n",
    "for i in range(100):\n",
    "    product.select_data_from_db(i)\n",
    "    print(product.product_number)\n",
    "    "
   ]
  },
  {
   "cell_type": "code",
   "execution_count": 41,
   "metadata": {},
   "outputs": [],
   "source": [
    "product = Products(1,1,1,1,1,1,1)"
   ]
  },
  {
   "cell_type": "code",
   "execution_count": 43,
   "metadata": {},
   "outputs": [
    {
     "name": "stdout",
     "output_type": "stream",
     "text": [
      "1\n"
     ]
    }
   ],
   "source": [
    "print(product.title)"
   ]
  },
  {
   "cell_type": "code",
   "execution_count": null,
   "metadata": {},
   "outputs": [],
   "source": []
  }
 ],
 "metadata": {
  "kernelspec": {
   "display_name": "Python 3",
   "language": "python",
   "name": "python3"
  },
  "language_info": {
   "codemirror_mode": {
    "name": "ipython",
    "version": 3
   },
   "file_extension": ".py",
   "mimetype": "text/x-python",
   "name": "python",
   "nbconvert_exporter": "python",
   "pygments_lexer": "ipython3",
   "version": "3.7.4"
  }
 },
 "nbformat": 4,
 "nbformat_minor": 2
}
